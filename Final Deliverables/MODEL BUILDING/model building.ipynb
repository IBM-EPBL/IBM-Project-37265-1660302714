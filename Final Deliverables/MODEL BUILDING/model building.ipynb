{
 "cells": [
  {
   "cell_type": "code",
   "execution_count": 10,
   "id": "93caec21",
   "metadata": {},
   "outputs": [],
   "source": [
    "#Import ImageDataGenerator Library And Configure It\n",
    "from keras.preprocessing.image import ImageDataGenerator\n",
    "train_datagen=ImageDataGenerator(rescale = 1./255, shear_range=0.2, zoom_range=0.2,horizontal_flip=True)\n",
    "test_datagen = ImageDataGenerator(rescale=1./255)"
   ]
  },
  {
   "cell_type": "code",
   "execution_count": 11,
   "id": "a2f2ba32",
   "metadata": {},
   "outputs": [
    {
     "name": "stdout",
     "output_type": "stream",
     "text": [
      "Found 15750 images belonging to 9 classes.\n"
     ]
    }
   ],
   "source": [
    "#Apply ImageDataGenerator Functionality To Train And Test Set\n",
    "x_train = train_datagen.flow_from_directory(r\"C:\\Users\\MOWLITHARAN\\Desktop\\IBM\\DATA COLLECTION\\Dataset\\training_set\", target_size=(64,64),batch_size=300,\n",
    "                                            class_mode='categorical', color_mode =\"grayscale\")\n"
   ]
  },
  {
   "cell_type": "code",
   "execution_count": 12,
   "id": "1e2c3edf",
   "metadata": {},
   "outputs": [
    {
     "name": "stdout",
     "output_type": "stream",
     "text": [
      "Found 2250 images belonging to 9 classes.\n"
     ]
    }
   ],
   "source": [
    "x_test = test_datagen.flow_from_directory(r\"C:\\Users\\MOWLITHARAN\\Desktop\\IBM\\DATA COLLECTION\\Dataset\\test_set\", target_size=(64,64),batch_size=300,\n",
    "                                         class_mode='categorical', color_mode =\"grayscale\")"
   ]
  },
  {
   "cell_type": "code",
   "execution_count": 1,
   "id": "937d45a9",
   "metadata": {},
   "outputs": [],
   "source": [
    "#Required Model Building Libraries\n",
    "from keras.models import Sequential\n",
    "from keras.layers import Dense\n",
    "from keras.layers import Convolution2D\n",
    "from tensorflow.keras.layers import Conv2D, MaxPooling2D\n",
    "from keras.layers import Dropout\n",
    "from keras.layers import Flatten"
   ]
  },
  {
   "cell_type": "code",
   "execution_count": 2,
   "id": "f6e3cb09",
   "metadata": {},
   "outputs": [],
   "source": [
    "#Initialize The Model\n",
    "model=Sequential()"
   ]
  },
  {
   "cell_type": "code",
   "execution_count": 3,
   "id": "e44634a8",
   "metadata": {},
   "outputs": [],
   "source": [
    "#Add The Convolution Layer\n",
    "model.add(Convolution2D(32,(3,3), input_shape=(64,64,1), activation = 'relu'))"
   ]
  },
  {
   "cell_type": "code",
   "execution_count": 4,
   "id": "87f3a5ad",
   "metadata": {},
   "outputs": [],
   "source": [
    "#Add The Pooling Layer\n",
    "model.add(MaxPooling2D(pool_size=(2,2)))"
   ]
  },
  {
   "cell_type": "code",
   "execution_count": 5,
   "id": "f4caa68e",
   "metadata": {},
   "outputs": [],
   "source": [
    "#Add The Flatten Layer\n",
    "model.add(Flatten())"
   ]
  },
  {
   "cell_type": "code",
   "execution_count": 6,
   "id": "44136d41",
   "metadata": {},
   "outputs": [],
   "source": [
    "#Adding The Dense Layers\n",
    "model.add(Dense( units=512, activation='relu'))"
   ]
  },
  {
   "cell_type": "code",
   "execution_count": 7,
   "id": "92be251f",
   "metadata": {},
   "outputs": [],
   "source": [
    "model.add(Dense(units=9, activation='softmax'))"
   ]
  },
  {
   "cell_type": "code",
   "execution_count": 8,
   "id": "40e30c8f",
   "metadata": {},
   "outputs": [],
   "source": [
    "#Compile The Model\n",
    "model.compile(loss='categorical_crossentropy', optimizer='adam', metrics=['accuracy'])"
   ]
  },
  {
   "cell_type": "code",
   "execution_count": 13,
   "id": "a8caf0b8",
   "metadata": {
    "scrolled": true
   },
   "outputs": [
    {
     "name": "stderr",
     "output_type": "stream",
     "text": [
      "C:\\Users\\MOWLITHARAN\\AppData\\Local\\Temp\\ipykernel_18940\\2861101544.py:2: UserWarning: `Model.fit_generator` is deprecated and will be removed in a future version. Please use `Model.fit`, which supports generators.\n",
      "  model.fit_generator(x_train, steps_per_epoch=24, epochs=10, validation_data=x_test,validation_steps=40)\n"
     ]
    },
    {
     "name": "stdout",
     "output_type": "stream",
     "text": [
      "Epoch 1/10\n",
      "24/24 [==============================] - ETA: 0s - loss: 1.1510 - accuracy: 0.6424WARNING:tensorflow:Your input ran out of data; interrupting training. Make sure that your dataset or generator can generate at least `steps_per_epoch * epochs` batches (in this case, 40 batches). You may need to use the repeat() function when building your dataset.\n",
      "24/24 [==============================] - 59s 2s/step - loss: 1.1510 - accuracy: 0.6424 - val_loss: 0.3571 - val_accuracy: 0.9111\n",
      "Epoch 2/10\n",
      "24/24 [==============================] - 31s 1s/step - loss: 0.2731 - accuracy: 0.9228\n",
      "Epoch 3/10\n",
      "24/24 [==============================] - 23s 936ms/step - loss: 0.1512 - accuracy: 0.9567\n",
      "Epoch 4/10\n",
      "24/24 [==============================] - 17s 715ms/step - loss: 0.0976 - accuracy: 0.9729\n",
      "Epoch 5/10\n",
      "24/24 [==============================] - 15s 625ms/step - loss: 0.0712 - accuracy: 0.9811\n",
      "Epoch 6/10\n",
      "24/24 [==============================] - 13s 549ms/step - loss: 0.0480 - accuracy: 0.9871\n",
      "Epoch 7/10\n",
      "24/24 [==============================] - 13s 549ms/step - loss: 0.0381 - accuracy: 0.9908\n",
      "Epoch 8/10\n",
      "24/24 [==============================] - 13s 518ms/step - loss: 0.0285 - accuracy: 0.9938\n",
      "Epoch 9/10\n",
      "24/24 [==============================] - 13s 524ms/step - loss: 0.0276 - accuracy: 0.9943\n",
      "Epoch 10/10\n",
      "24/24 [==============================] - 12s 496ms/step - loss: 0.0196 - accuracy: 0.9955\n"
     ]
    },
    {
     "data": {
      "text/plain": [
       "<keras.callbacks.History at 0x1f21678d1f0>"
      ]
     },
     "execution_count": 13,
     "metadata": {},
     "output_type": "execute_result"
    }
   ],
   "source": [
    "#Fit And Save The Model\n",
    "model.fit_generator(x_train, steps_per_epoch=24, epochs=10, validation_data=x_test,validation_steps=40)"
   ]
  },
  {
   "cell_type": "code",
   "execution_count": 14,
   "id": "8dd1fe09",
   "metadata": {},
   "outputs": [],
   "source": [
    "model.save('aslpng.h5')"
   ]
  }
 ],
 "metadata": {
  "kernelspec": {
   "display_name": "Python 3 (ipykernel)",
   "language": "python",
   "name": "python3"
  },
  "language_info": {
   "codemirror_mode": {
    "name": "ipython",
    "version": 3
   },
   "file_extension": ".py",
   "mimetype": "text/x-python",
   "name": "python",
   "nbconvert_exporter": "python",
   "pygments_lexer": "ipython3",
   "version": "3.9.10"
  }
 },
 "nbformat": 4,
 "nbformat_minor": 5
}
