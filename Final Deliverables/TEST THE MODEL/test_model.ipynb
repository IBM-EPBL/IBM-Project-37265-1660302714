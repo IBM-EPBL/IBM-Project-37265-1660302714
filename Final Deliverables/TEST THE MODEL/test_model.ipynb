{
 "cells": [
  {
   "cell_type": "code",
   "execution_count": 1,
   "id": "8c37e865",
   "metadata": {},
   "outputs": [],
   "source": [
    "#Import The Packages And Load The Saved Model\n",
    "from keras.models import load_model\n",
    "import numpy as np\n",
    "import cv2"
   ]
  },
  {
   "cell_type": "code",
   "execution_count": 2,
   "id": "4a6dd893",
   "metadata": {},
   "outputs": [],
   "source": [
    "model=load_model(R\"C:\\Users\\MOWLITHARAN\\Desktop\\IBM\\conversation engine for deaf and dumb\\aslpng.h5\")"
   ]
  },
  {
   "cell_type": "code",
   "execution_count": 3,
   "id": "13c1505d",
   "metadata": {},
   "outputs": [],
   "source": [
    "#Load The Test Image, Pre-Process It And Predict\n",
    "from skimage.transform import resize\n",
    "def detect(frame):\n",
    "    img = resize(frame,(64,64,1))\n",
    "    img = np.expand_dims(img,axis=0)\n",
    "    if(np.max(img)>1):\n",
    "        img = img/255.0\n",
    "    prediction = model.predict(img)\n",
    "    print(prediction)\n",
    "    prediction_classes=model.predict(img)\n",
    "    print(prediction_classes)"
   ]
  },
  {
   "cell_type": "code",
   "execution_count": 4,
   "id": "314ad33f",
   "metadata": {},
   "outputs": [
    {
     "name": "stdout",
     "output_type": "stream",
     "text": [
      "[[2.5558991e-10 3.0757382e-13 1.2511892e-06 7.7449012e-11 1.9375349e-11\n",
      "  2.0110731e-08 9.9999738e-01 1.4628135e-06 2.2727497e-12]]\n",
      "[[2.5558991e-10 3.0757382e-13 1.2511892e-06 7.7449012e-11 1.9375349e-11\n",
      "  2.0110731e-08 9.9999738e-01 1.4628135e-06 2.2727497e-12]]\n"
     ]
    }
   ],
   "source": [
    "frame=cv2.imread(r\"C:\\Users\\MOWLITHARAN\\Desktop\\IBM\\conversation engine for deaf and dumb\\Dataset\\test_set\\G\\1.png\")\n",
    "data = detect(frame)"
   ]
  }
 ],
 "metadata": {
  "kernelspec": {
   "display_name": "Python 3 (ipykernel)",
   "language": "python",
   "name": "python3"
  },
  "language_info": {
   "codemirror_mode": {
    "name": "ipython",
    "version": 3
   },
   "file_extension": ".py",
   "mimetype": "text/x-python",
   "name": "python",
   "nbconvert_exporter": "python",
   "pygments_lexer": "ipython3",
   "version": "3.9.10"
  }
 },
 "nbformat": 4,
 "nbformat_minor": 5
}
